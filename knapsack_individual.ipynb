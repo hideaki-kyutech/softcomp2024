{
  "nbformat": 4,
  "nbformat_minor": 0,
  "metadata": {
    "colab": {
      "provenance": [],
      "authorship_tag": "ABX9TyNIVQK5Pz6kHPg69fTRpanU",
      "include_colab_link": true
    },
    "kernelspec": {
      "name": "python3",
      "display_name": "Python 3"
    },
    "language_info": {
      "name": "python"
    }
  },
  "cells": [
    {
      "cell_type": "markdown",
      "metadata": {
        "id": "view-in-github",
        "colab_type": "text"
      },
      "source": [
        "<a href=\"https://colab.research.google.com/github/hideaki-kyutech/softcomp2024/blob/main/knapsack_individual.ipynb\" target=\"_parent\"><img src=\"https://colab.research.google.com/assets/colab-badge.svg\" alt=\"Open In Colab\"/></a>"
      ]
    },
    {
      "cell_type": "markdown",
      "source": [
        "# ナップサック問題（解のランダム生成）"
      ],
      "metadata": {
        "id": "gfr4FrGc6gkl"
      }
    },
    {
      "cell_type": "code",
      "execution_count": 1,
      "metadata": {
        "id": "hhejDbxuKo7J"
      },
      "outputs": [],
      "source": [
        "import random\n",
        "from itertools import compress"
      ]
    },
    {
      "cell_type": "code",
      "source": [
        "class Item:\n",
        "\n",
        "    def __init__(self, name, weight, price) -> None:\n",
        "        self.name = name\n",
        "        self.weight = weight\n",
        "        self.price = price"
      ],
      "metadata": {
        "id": "cJKyv2FbK0_0"
      },
      "execution_count": 2,
      "outputs": []
    },
    {
      "cell_type": "code",
      "source": [
        "class Individual:\n",
        "    counter = 0\n",
        "\n",
        "    @classmethod\n",
        "    def set_items(cls, items):\n",
        "        cls.items = items\n",
        "\n",
        "    @classmethod\n",
        "    def set_max_weight(cls, max_weight):\n",
        "        cls.max_weight = max_weight\n",
        "\n",
        "    @classmethod\n",
        "    def create_random(cls):\n",
        "        return Individual([random.choice([0, 1]) for _ in range(len(cls.items))])\n",
        "\n",
        "    def __init__(self, gene_list) -> None:\n",
        "        self.gene_list = gene_list\n",
        "        self.fitness = self.fitness_function()\n",
        "        self.__class__.counter += 1\n",
        "\n",
        "    def total_price(self):\n",
        "        return sum([i.price for i in list(compress(self.__class__.items, self.gene_list))])\n",
        "\n",
        "    def total_weight(self):\n",
        "        return sum([i.weight for i in list(compress(self.__class__.items, self.gene_list))])\n",
        "\n",
        "    def fitness_function(self):\n",
        "        if self.total_weight() > self.__class__.max_weight:\n",
        "            return 0\n",
        "        else:\n",
        "            return self.total_price()\n",
        "\n",
        "    def __str__(self):\n",
        "        return f'gene: {self.gene_list}, price: {self.total_price()}, weight: {self.total_weight()}'\n",
        "\n",
        "    def plot_info(self):\n",
        "        print(f'Included: {[i.name for i in list(compress(self.__class__.items, self.gene_list))]}')\n",
        "        print(f'Fitness: {self.fitness}')\n",
        "        print(f'Price: {self.total_price()}')\n",
        "        print(f'Weight: {self.total_weight()}')\n",
        "\n"
      ],
      "metadata": {
        "id": "NxEfQA0GK8A4"
      },
      "execution_count": 4,
      "outputs": []
    },
    {
      "cell_type": "code",
      "source": [
        "if __name__ == '__main__':\n",
        "  random.seed(13)\n",
        "\n",
        "  items = [\n",
        "        Item('laptop', 3, 300),\n",
        "        Item('book', 2, 15),\n",
        "        Item('radio', 1, 30),\n",
        "        Item('tv', 6, 230),\n",
        "        Item('potato', 5, 7),\n",
        "        Item('brick', 3, 1),\n",
        "        Item('bottle', 1, 2),\n",
        "        Item('camera', 0.5, 280),\n",
        "        Item('smartphone', 0.1, 500),\n",
        "        Item('picture', 1, 170),\n",
        "        Item('flower', 2, 5),\n",
        "        Item('chair', 3, 4),\n",
        "        Item('watch', 0.05, 500),\n",
        "        Item('boots', 1.5, 30),\n",
        "        Item('radiator', 0.5, 450),\n",
        "        Item('tablet', 0.5, 450),\n",
        "        Item('printer', 4.5, 170)\n",
        "  ]\n",
        "\n",
        "  Individual.set_items(items)\n",
        "  Individual.set_max_weight(10)\n",
        "\n",
        "  ind = Individual.create_random()\n",
        "\n",
        "  ind.plot_info()"
      ],
      "metadata": {
        "id": "SVDY7A9PK8m4",
        "colab": {
          "base_uri": "https://localhost:8080/"
        },
        "outputId": "b7851ff4-ee0c-419d-d36a-34b49a494875"
      },
      "execution_count": 9,
      "outputs": [
        {
          "output_type": "stream",
          "name": "stdout",
          "text": [
            "Included: ['laptop', 'book', 'flower', 'watch', 'tablet']\n",
            "Fitness: 1270\n",
            "Price: 1270\n",
            "Weight: 7.55\n"
          ]
        }
      ]
    },
    {
      "cell_type": "code",
      "source": [],
      "metadata": {
        "id": "wAybfDkp5fdQ"
      },
      "execution_count": null,
      "outputs": []
    }
  ]
}