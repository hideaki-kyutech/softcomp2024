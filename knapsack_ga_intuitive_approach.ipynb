{
  "nbformat": 4,
  "nbformat_minor": 0,
  "metadata": {
    "colab": {
      "provenance": [],
      "authorship_tag": "ABX9TyMwjsWzqMgmfrQU4av8Cb1G",
      "include_colab_link": true
    },
    "kernelspec": {
      "name": "python3",
      "display_name": "Python 3"
    },
    "language_info": {
      "name": "python"
    }
  },
  "cells": [
    {
      "cell_type": "markdown",
      "metadata": {
        "id": "view-in-github",
        "colab_type": "text"
      },
      "source": [
        "<a href=\"https://colab.research.google.com/github/hideaki-kyutech/softcomp2024/blob/main/knapsack_ga_intuitive_approach.ipynb\" target=\"_parent\"><img src=\"https://colab.research.google.com/assets/colab-badge.svg\" alt=\"Open In Colab\"/></a>"
      ]
    },
    {
      "cell_type": "code",
      "execution_count": null,
      "metadata": {
        "id": "ZLAPQo7dLNao"
      },
      "outputs": [],
      "source": [
        "import random"
      ]
    },
    {
      "cell_type": "code",
      "source": [
        "from itertools import compress"
      ],
      "metadata": {
        "id": "WR15xzfgLf6L"
      },
      "execution_count": null,
      "outputs": []
    },
    {
      "cell_type": "code",
      "source": [
        "import copy\n",
        "import matplotlib.pyplot as plt"
      ],
      "metadata": {
        "id": "bXJymvD3L9mB"
      },
      "execution_count": null,
      "outputs": []
    },
    {
      "cell_type": "markdown",
      "source": [
        "## Individual"
      ],
      "metadata": {
        "id": "5OK4fQESLrdB"
      }
    },
    {
      "cell_type": "code",
      "source": [
        "class Item:\n",
        "\n",
        "    def __init__(self, name, weight, price) -> None:\n",
        "        self.name = name\n",
        "        self.weight = weight\n",
        "        self.price = price\n",
        "\n",
        "\n",
        "class Individual:\n",
        "    counter = 0\n",
        "\n",
        "    @classmethod\n",
        "    def set_items(cls, items):\n",
        "        cls.items = items\n",
        "\n",
        "    @classmethod\n",
        "    def set_max_weight(cls, max_weight):\n",
        "        cls.max_weight = max_weight\n",
        "\n",
        "    @classmethod\n",
        "    def create_random(cls):\n",
        "        return Individual([random.choice([0, 1]) for _ in range(len(cls.items))])\n",
        "\n",
        "    def __init__(self, gene_list) -> None:\n",
        "        self.gene_list = gene_list\n",
        "        self.fitness = self.fitness_function()\n",
        "        self.__class__.counter += 1\n",
        "\n",
        "    def total_price(self):\n",
        "        return sum([i.price for i in list(compress(self.__class__.items, self.gene_list))])\n",
        "\n",
        "    def total_weight(self):\n",
        "        return sum([i.weight for i in list(compress(self.__class__.items, self.gene_list))])\n",
        "\n",
        "    def fitness_function(self):\n",
        "        if self.total_weight() > self.__class__.max_weight:\n",
        "            return 0\n",
        "        else:\n",
        "            return self.total_price()\n",
        "\n",
        "    def __str__(self):\n",
        "        return f'gene: {self.gene_list}, price: {self.total_price()}, weight: {self.total_weight()}'\n",
        "\n",
        "    def plot_info(self):\n",
        "        print(f'Included: {[i.name for i in list(compress(self.__class__.items, self.gene_list))]}')\n",
        "        print(f'Fitness: {self.fitness}')\n",
        "        print(f'Price: {self.total_price()}')\n",
        "        print(f'Weight: {self.total_weight()}')\n"
      ],
      "metadata": {
        "id": "aAv1G0bCLlfn"
      },
      "execution_count": null,
      "outputs": []
    },
    {
      "cell_type": "markdown",
      "source": [
        "## GA Tools"
      ],
      "metadata": {
        "id": "9oo2BYoTMGyS"
      }
    },
    {
      "cell_type": "code",
      "source": [
        "def selection_rank_with_elite(individuals, elite_size = 0):\n",
        "    sorted_individuals = sorted(individuals, key = lambda ind: ind.fitness, reverse = True)\n",
        "    rank_distance = 1 / len(individuals)\n",
        "    ranks = [(1 - i * rank_distance) for i in range(len(individuals))]\n",
        "    ranks_sum = sum(ranks)\n",
        "    selected = sorted_individuals[0:elite_size]\n",
        "\n",
        "    for i in range(len(sorted_individuals) - elite_size):\n",
        "        shave = random.random() * ranks_sum\n",
        "        rank_sum = 0\n",
        "        for i in range(len(sorted_individuals)):\n",
        "            rank_sum += ranks[i]\n",
        "            if rank_sum > shave:\n",
        "                selected.append(sorted_individuals[i])\n",
        "                break\n",
        "\n",
        "    return selected\n",
        "\n",
        "\n",
        "def crossover_one_point(p1, p2):\n",
        "    point = random.randint(1, len(p1) - 1)\n",
        "    c1, c2 = copy.deepcopy(p1), copy.deepcopy(p2)\n",
        "    c1[point:], c2[point:] = p2[point:], p1[point:]\n",
        "    return [c1, c2]\n",
        "\n",
        "\n",
        "def crossover_fitness_driven_one_point(p1, p2):\n",
        "    point = random.randint(1, len(p1.gene_list) - 1)\n",
        "    c1, c2 = copy.deepcopy(p1.gene_list), copy.deepcopy(p2.gene_list)\n",
        "    c1[point:], c2[point:] = p2.gene_list[point:], p1.gene_list[point:]\n",
        "    child1 = Individual(c1)\n",
        "    child2 = Individual(c2)\n",
        "    candidates = [child1, child2, p1, p2]\n",
        "\n",
        "    best = sorted(candidates, key = lambda ind: ind.fitness, reverse = True)\n",
        "\n",
        "    return best[0:2]\n",
        "\n",
        "\n",
        "def mutation_bit_flip(ind):\n",
        "    mut = copy.deepcopy(ind)\n",
        "    pos = random.randint(0, len(ind) - 1)\n",
        "    g1 = mut[pos]\n",
        "    mut[pos] = (g1 + 1) % 2\n",
        "    return mut\n",
        "\n",
        "\n",
        "def mutation_fitness_driven_bit_flip(ind, max_tries = 3):\n",
        "    for t in range(0, max_tries):\n",
        "        mut = copy.deepcopy(ind.gene_list)\n",
        "        pos = random.randint(0, len(ind.gene_list) - 1)\n",
        "        g1 = mut[pos]\n",
        "        mut[pos] = (g1 + 1) % 2\n",
        "        mutated = Individual(mut)\n",
        "        if mutated.fitness > ind.fitness:\n",
        "            return mutated\n",
        "    return ind\n",
        "\n",
        "\n",
        "def get_items_from_my_room():\n",
        "    return [\n",
        "        Item('laptop', 3, 300),\n",
        "        Item('book', 2, 15),\n",
        "        Item('radio', 1, 30),\n",
        "        Item('tv', 6, 230),\n",
        "        Item('potato', 5, 7),\n",
        "        Item('brick', 3, 1),\n",
        "        Item('bottle', 1, 2),\n",
        "        Item('camera', 0.5, 280),\n",
        "        Item('smartphone', 0.1, 500),\n",
        "        Item('picture', 1, 170),\n",
        "        Item('flower', 2, 5),\n",
        "        Item('chair', 3, 4),\n",
        "        Item('watch', 0.05, 500),\n",
        "        Item('boots', 1.5, 30),\n",
        "        Item('radiator', 5, 25),\n",
        "        Item('tablet', 0.5, 450),\n",
        "        Item('printer', 4.5, 170)\n",
        "    ]\n",
        "\n",
        "\n",
        "def crossover_operation(population, method, prob):\n",
        "    crossed_offspring = []\n",
        "    for ind1, ind2 in zip(population[::2], population[1::2]):\n",
        "        if random.random() < prob:\n",
        "            kid1, kid2 = method(ind1, ind2)\n",
        "            crossed_offspring.append(kid1)\n",
        "            crossed_offspring.append(kid2)\n",
        "        else:\n",
        "            crossed_offspring.append(ind1)\n",
        "            crossed_offspring.append(ind2)\n",
        "    return crossed_offspring\n",
        "\n",
        "\n",
        "def mutation_operation(population, method, prob):\n",
        "    mutated_offspring = []\n",
        "    for mutant in population:\n",
        "        if random.random() < prob:\n",
        "            new_mutant = method(mutant)\n",
        "            mutated_offspring.append(new_mutant)\n",
        "        else:\n",
        "            mutated_offspring.append(mutant)\n",
        "    return mutated_offspring\n",
        "\n",
        "\n",
        "def plot_stats(fit_avg, fit_best_ever, title):\n",
        "    plt.plot(fit_avg, label = \"Average Fitness of Gen\")\n",
        "    plt.plot(fit_best_ever, label = \"Best Fitness\")\n",
        "    plt.title(title)\n",
        "    plt.legend(loc = \"lower right\")\n",
        "    plt.show()\n",
        "\n",
        "\n",
        "def stats(population, best_ind, fit_avg, fit_best, fit_best_ever):\n",
        "    best_of_generation = max(population, key = lambda ind: ind.fitness)\n",
        "    if best_ind.fitness < best_of_generation.fitness:\n",
        "        best_ind = best_of_generation\n",
        "    fit_avg.append(sum([ind.fitness for ind in population]) / len(population))\n",
        "    fit_best.append(best_of_generation.fitness)\n",
        "    fit_best_ever.append(max(fit_best + fit_best_ever))\n",
        "\n",
        "    return best_ind, fit_avg, fit_best, fit_best_ever"
      ],
      "metadata": {
        "id": "YITknAWELqTu"
      },
      "execution_count": null,
      "outputs": []
    },
    {
      "cell_type": "code",
      "source": [
        "def crossover(parent1, parent2):\n",
        "    child1_genes, child2_genes = crossover_one_point(parent1.gene_list, parent2.gene_list)\n",
        "    return Individual(child1_genes), Individual(child2_genes)\n",
        "\n",
        "\n",
        "def mutate(ind):\n",
        "    mutated_gene = mutation_bit_flip(ind.gene_list)\n",
        "    return Individual(mutated_gene)"
      ],
      "metadata": {
        "id": "5MZuLcQYMFKy"
      },
      "execution_count": null,
      "outputs": []
    },
    {
      "cell_type": "code",
      "source": [
        "Individual.set_items(get_items_from_my_room())\n",
        "Individual.set_max_weight(10)"
      ],
      "metadata": {
        "id": "_8QMGtlQMPyb"
      },
      "execution_count": null,
      "outputs": []
    },
    {
      "cell_type": "code",
      "source": [
        "random.seed(63)\n",
        "POPULATION_SIZE = 8\n",
        "CROSSOVER_PROBABILITY = .7\n",
        "MUTATION_PROBABILITY = .2\n",
        "MAX_GENERATIONS = 20"
      ],
      "metadata": {
        "id": "K0GgX_OaMSJl"
      },
      "execution_count": null,
      "outputs": []
    },
    {
      "cell_type": "code",
      "source": [
        "first_population = [Individual.create_random() for _ in range(POPULATION_SIZE)]\n",
        "population = first_population.copy()\n",
        "fitness_list = [ind.fitness for ind in population]\n",
        "fit_avg = [sum(fitness_list) / len(population)]\n",
        "fit_best = [max(fitness_list)]\n",
        "fit_best_ever = [max(fitness_list + fit_best)]\n",
        "best_ind = random.choice(first_population)\n",
        "population = first_population.copy()"
      ],
      "metadata": {
        "id": "RnKma-IlMT8N"
      },
      "execution_count": null,
      "outputs": []
    },
    {
      "cell_type": "code",
      "source": [
        "generation_number = 0\n",
        "\n",
        "while generation_number < MAX_GENERATIONS:\n",
        "    generation_number += 1\n",
        "    offspring = selection_rank_with_elite(population, elite_size = 2)\n",
        "    crossed_offspring = crossover_operation(offspring, crossover, CROSSOVER_PROBABILITY)\n",
        "    mutated_offspring = mutation_operation(crossed_offspring, mutate, MUTATION_PROBABILITY)\n",
        "    population = mutated_offspring.copy()\n",
        "\n",
        "    best_ind, fit_avg, fit_best, fit_best_ever = stats(population, best_ind, fit_avg, fit_best, fit_best_ever)\n",
        "\n",
        "plot_stats(fit_avg, fit_best_ever, \"Knapsack Problem\")\n",
        "best_ind.plot_info()"
      ],
      "metadata": {
        "id": "BXgWj448MWFJ",
        "outputId": "4d89e2e0-2830-41bc-be4e-59bb88defc19",
        "colab": {
          "base_uri": "https://localhost:8080/",
          "height": 520
        }
      },
      "execution_count": null,
      "outputs": [
        {
          "output_type": "display_data",
          "data": {
            "text/plain": [
              "<Figure size 640x480 with 1 Axes>"
            ],
            "image/png": "[encoded data removed]"
          },
          "metadata": {}
        },
        {
          "output_type": "stream",
          "name": "stdout",
          "text": [
            "Included: ['laptop', 'radio', 'bottle', 'camera', 'smartphone', 'picture', 'flower', 'watch', 'tablet']\n",
            "Fitness: 2237\n",
            "Price: 2237\n",
            "Weight: 9.15\n"
          ]
        }
      ]
    },
    {
      "cell_type": "code",
      "source": [],
      "metadata": {
        "id": "DLiSdygKMY8E"
      },
      "execution_count": null,
      "outputs": []
    }
  ]
}